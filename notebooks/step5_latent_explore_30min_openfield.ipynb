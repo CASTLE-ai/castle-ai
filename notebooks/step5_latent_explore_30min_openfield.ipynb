{
 "cells": [
  {
   "cell_type": "code",
   "execution_count": null,
   "metadata": {},
   "outputs": [],
   "source": [
    "import numpy as np\n",
    "import matplotlib.pyplot as plt\n",
    "\n",
    "from castle.utils.latent_explorer import Latent\n"
   ]
  },
  {
   "cell_type": "code",
   "execution_count": null,
   "metadata": {},
   "outputs": [],
   "source": [
    "X = np.load('temp/square_open_field_60_to_90_align_latent.npz')['latent']\n",
    "print(X.shape)\n",
    "\n",
    "X = Latent(X, time_window=5)  # time_window = 2 frames"
   ]
  },
  {
   "cell_type": "code",
   "execution_count": null,
   "metadata": {},
   "outputs": [],
   "source": [
    "target = X.select(cluster_id=0)"
   ]
  },
  {
   "cell_type": "code",
   "execution_count": null,
   "metadata": {},
   "outputs": [],
   "source": [
    "cfg = {\n",
    "    'n_neighbors': 200,\n",
    "    'min_dist': .0,\n",
    "    'verbose': True,\n",
    "}\n",
    "\n",
    "target.build_embedding(cfg)\n",
    "target.plot_embedding()\n",
    "plt.tight_layout()\n",
    "plt.show()\n"
   ]
  },
  {
   "cell_type": "code",
   "execution_count": null,
   "metadata": {},
   "outputs": [],
   "source": [
    "cfg = {\n",
    "    'eps': 1.,\n",
    "}\n",
    "target.build_cluster(method='dbscan', configs=cfg)\n",
    "\n",
    "target.plot_embedding()\n",
    "plt.tight_layout()\n",
    "plt.show()"
   ]
  },
  {
   "cell_type": "code",
   "execution_count": null,
   "metadata": {},
   "outputs": [],
   "source": [
    "X.split_local_latent(target)"
   ]
  },
  {
   "cell_type": "code",
   "execution_count": null,
   "metadata": {},
   "outputs": [],
   "source": [
    "plt.subplots(figsize=(12, 2))\n",
    "X.plot_syllables()\n",
    "plt.tight_layout()\n",
    "plt.show()"
   ]
  },
  {
   "cell_type": "code",
   "execution_count": null,
   "metadata": {},
   "outputs": [],
   "source": [
    "target = X.select(cluster_id=1)"
   ]
  },
  {
   "cell_type": "code",
   "execution_count": null,
   "metadata": {},
   "outputs": [],
   "source": [
    "cfg = [{\n",
    "    'n_neighbors': 200,\n",
    "    'min_dist': .0,\n",
    "    'n_components': 10,\n",
    "    'verbose': True,\n",
    "    },\n",
    "    {\n",
    "    'n_neighbors': 30,\n",
    "    'min_dist': .0,\n",
    "    'n_components': 2,\n",
    "    'verbose': True,\n",
    "    }\n",
    "]\n",
    "\n",
    "target.build_embedding(cfg)\n",
    "target.plot_embedding()\n",
    "plt.tight_layout()\n",
    "plt.show()\n"
   ]
  },
  {
   "cell_type": "code",
   "execution_count": null,
   "metadata": {},
   "outputs": [],
   "source": [
    "cfg = {\n",
    "    'eps': 1.,\n",
    "}\n",
    "target.build_cluster(method='dbscan', configs=cfg)\n",
    "\n",
    "target.plot_embedding()\n",
    "plt.tight_layout()\n",
    "plt.show()"
   ]
  },
  {
   "cell_type": "code",
   "execution_count": null,
   "metadata": {},
   "outputs": [],
   "source": []
  }
 ],
 "metadata": {
  "kernelspec": {
   "display_name": ".venv",
   "language": "python",
   "name": "python3"
  },
  "language_info": {
   "codemirror_mode": {
    "name": "ipython",
    "version": 3
   },
   "file_extension": ".py",
   "mimetype": "text/x-python",
   "name": "python",
   "nbconvert_exporter": "python",
   "pygments_lexer": "ipython3",
   "version": "3.10.12"
  }
 },
 "nbformat": 4,
 "nbformat_minor": 2
}
