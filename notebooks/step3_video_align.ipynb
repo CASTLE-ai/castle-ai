{
 "cells": [
  {
   "cell_type": "code",
   "execution_count": null,
   "metadata": {},
   "outputs": [],
   "source": [
    "from tqdm import tqdm\n",
    "from castle.utils.video_io import ReadArray, WriteArray\n",
    "from castle.utils.video_align import center_roi, rotate_based_on_roi_closest_center_point, crop, blank_page"
   ]
  },
  {
   "cell_type": "code",
   "execution_count": null,
   "metadata": {},
   "outputs": [],
   "source": [
    "video_path = '../demo/case2-openfield/openfield-1min-raw.mp4'\n",
    "mask_video_path = f'temp/mask.mp4'\n",
    "video = ReadArray(video_path)\n",
    "mask_video = ReadArray(mask_video_path)"
   ]
  },
  {
   "cell_type": "code",
   "execution_count": null,
   "metadata": {},
   "outputs": [],
   "source": [
    "crf = 18\n",
    "fps = video.fps\n",
    "video_align_path = f'temp/video-align.mp4'\n",
    "mask_video_align_path = f'temp/mask-align.mp4'\n",
    "video_align = WriteArray(video_align_path, fps, crf)\n",
    "mask_video_align = WriteArray(mask_video_align_path, fps, crf)\n",
    "\n",
    "body_rgb = [122, 228, 240]\n",
    "tail_rgb = [255, 208, 236]\n",
    "crop_h, crop_w = 640, 640\n",
    "n = min(len(mask_video), len(video))\n",
    "\n",
    "for i in tqdm(range(n)):\n",
    "    frame, mask = video[i], mask_video[i]\n",
    "    try:\n",
    "        f = center_roi(frame, mask, body_rgb)\n",
    "        m = center_roi(mask, mask, body_rgb)\n",
    "        f = rotate_based_on_roi_closest_center_point(f, m, tail_rgb)\n",
    "        m = rotate_based_on_roi_closest_center_point(m, m, tail_rgb)\n",
    "        f = crop(f, crop_h, crop_w)\n",
    "        m = crop(m, crop_h, crop_w)\n",
    "    except:\n",
    "        f = blank_page(crop_h, crop_w)\n",
    "        m = blank_page(crop_h, crop_w)\n",
    "        print(f'fail at frame {i}')\n",
    "\n",
    "    video_align.append(f)\n",
    "    mask_video_align.append(m)\n",
    "mask_video_align.close()    \n",
    "video_align.close()"
   ]
  }
 ],
 "metadata": {
  "kernelspec": {
   "display_name": ".venv",
   "language": "python",
   "name": "python3"
  },
  "language_info": {
   "codemirror_mode": {
    "name": "ipython",
    "version": 3
   },
   "file_extension": ".py",
   "mimetype": "text/x-python",
   "name": "python",
   "nbconvert_exporter": "python",
   "pygments_lexer": "ipython3",
   "version": "3.10.12"
  }
 },
 "nbformat": 4,
 "nbformat_minor": 2
}
