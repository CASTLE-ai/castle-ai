{
 "cells": [
  {
   "cell_type": "code",
   "execution_count": null,
   "metadata": {},
   "outputs": [],
   "source": [
    "import numpy as np\n",
    "import matplotlib.pyplot as plt\n",
    "\n",
    "from castle.utils.latent_explorer import Latent"
   ]
  },
  {
   "cell_type": "code",
   "execution_count": null,
   "metadata": {},
   "outputs": [],
   "source": [
    "X = np.load('notebooks/temp/square_open_field_60_to_90_align_latent.npz')['latent']\n",
    "print(X.shape)\n",
    "\n",
    "X = Latent(X, 5, device='gpu') "
   ]
  },
  {
   "cell_type": "code",
   "execution_count": null,
   "metadata": {},
   "outputs": [],
   "source": [
    "x = X.select(selected_cluster='init')"
   ]
  },
  {
   "cell_type": "code",
   "execution_count": null,
   "metadata": {},
   "outputs": [],
   "source": [
    "cfg = {\n",
    "    'n_neighbors': 300,\n",
    "    'min_dist': .0,\n",
    "}\n",
    "\n",
    "x.build_embedding(cfg)\n",
    "x.plot_embedding()\n",
    "plt.tight_layout()\n",
    "plt.show()\n"
   ]
  },
  {
   "cell_type": "code",
   "execution_count": null,
   "metadata": {},
   "outputs": [],
   "source": [
    "cfg = {\n",
    "    'eps': 1.,\n",
    "}\n",
    "x.build_cluster(method='dbscan', configs=cfg)\n",
    "\n",
    "x.plot_embedding()\n",
    "plt.tight_layout()\n",
    "plt.show()"
   ]
  },
  {
   "cell_type": "code",
   "execution_count": null,
   "metadata": {},
   "outputs": [],
   "source": [
    "x.plot_embedding()\n",
    "plt.tight_layout()\n",
    "plt.show()"
   ]
  },
  {
   "cell_type": "code",
   "execution_count": null,
   "metadata": {},
   "outputs": [],
   "source": [
    "x.label_cluster(1, 'grooming')\n",
    "# x.label_cluster(2, 'behavior_2')"
   ]
  },
  {
   "cell_type": "code",
   "execution_count": null,
   "metadata": {},
   "outputs": [],
   "source": [
    "X.import_local_latent(x)"
   ]
  },
  {
   "cell_type": "code",
   "execution_count": null,
   "metadata": {},
   "outputs": [],
   "source": [
    "plt.subplots(figsize=(12, 2))\n",
    "\n",
    "X.plot_syllables()\n",
    "# plt.xlim([3000, 5000])\n",
    "plt.tight_layout()\n",
    "plt.show()\n",
    "# assert 0"
   ]
  },
  {
   "cell_type": "code",
   "execution_count": null,
   "metadata": {},
   "outputs": [],
   "source": [
    "x = X.select(selected_cluster='init')"
   ]
  },
  {
   "cell_type": "code",
   "execution_count": null,
   "metadata": {},
   "outputs": [],
   "source": [
    "cfg = {\n",
    "    'n_neighbors': 300,\n",
    "    'min_dist': .0,\n",
    "}\n",
    "\n",
    "x.build_embedding(cfg)\n",
    "x.plot_embedding()\n",
    "plt.tight_layout()\n",
    "plt.show()\n"
   ]
  },
  {
   "cell_type": "code",
   "execution_count": null,
   "metadata": {},
   "outputs": [],
   "source": [
    "cfg = {\n",
    "    'eps': .3,\n",
    "}\n",
    "x.build_cluster(method='dbscan', configs=cfg)\n",
    "\n",
    "x.plot_embedding()\n",
    "plt.tight_layout()\n",
    "plt.show()"
   ]
  },
  {
   "cell_type": "code",
   "execution_count": null,
   "metadata": {},
   "outputs": [],
   "source": [
    "x.label_cluster(1, 'behavior_green')"
   ]
  },
  {
   "cell_type": "code",
   "execution_count": null,
   "metadata": {},
   "outputs": [],
   "source": [
    "X.import_local_latent(x)"
   ]
  },
  {
   "cell_type": "code",
   "execution_count": null,
   "metadata": {},
   "outputs": [],
   "source": [
    "plt.subplots(figsize=(12, 2))\n",
    "\n",
    "X.plot_syllables()\n",
    "# plt.xlim([3000, 5000])\n",
    "plt.tight_layout()\n",
    "plt.show()\n",
    "# assert 0"
   ]
  },
  {
   "cell_type": "code",
   "execution_count": null,
   "metadata": {},
   "outputs": [],
   "source": [
    "x = X.select(selected_cluster='init')"
   ]
  },
  {
   "cell_type": "code",
   "execution_count": null,
   "metadata": {},
   "outputs": [],
   "source": [
    "cfg = [{\n",
    "    'n_neighbors': 250,\n",
    "    'min_dist': .0,\n",
    "    'n_components': 10,\n",
    "    'verbose': True,\n",
    "    },\n",
    "    {\n",
    "    'n_neighbors': 250,\n",
    "    'min_dist': .0,\n",
    "    'n_components': 2,\n",
    "    'verbose': True,\n",
    "    }\n",
    "]\n",
    "\n",
    "\n",
    "x.build_embedding(cfg)\n",
    "x.plot_embedding()\n",
    "plt.tight_layout()\n",
    "plt.show()\n"
   ]
  },
  {
   "cell_type": "code",
   "execution_count": null,
   "metadata": {},
   "outputs": [],
   "source": [
    "cfg = {\n",
    "    'eps': 1.,\n",
    "}\n",
    "x.build_cluster(method='dbscan', configs=cfg)\n",
    "\n",
    "x.plot_embedding()\n",
    "plt.tight_layout()\n",
    "plt.show()"
   ]
  },
  {
   "cell_type": "code",
   "execution_count": null,
   "metadata": {},
   "outputs": [],
   "source": [
    "x.label_cluster(0, 'behavior_bb')"
   ]
  },
  {
   "cell_type": "code",
   "execution_count": null,
   "metadata": {},
   "outputs": [],
   "source": [
    "x.label_cluster(1, 'behavior_pp')"
   ]
  },
  {
   "cell_type": "code",
   "execution_count": null,
   "metadata": {},
   "outputs": [],
   "source": [
    "X.import_local_latent(x)"
   ]
  },
  {
   "cell_type": "code",
   "execution_count": null,
   "metadata": {},
   "outputs": [],
   "source": [
    "plt.subplots(figsize=(12, 2))\n",
    "\n",
    "X.plot_syllables()\n",
    "# plt.xlim([3000, 5000])\n",
    "plt.tight_layout()\n",
    "plt.show()\n",
    "# assert 0"
   ]
  }
 ],
 "metadata": {
  "kernelspec": {
   "display_name": ".venv",
   "language": "python",
   "name": "python3"
  },
  "language_info": {
   "codemirror_mode": {
    "name": "ipython",
    "version": 3
   },
   "file_extension": ".py",
   "mimetype": "text/x-python",
   "name": "python",
   "nbconvert_exporter": "python",
   "pygments_lexer": "ipython3",
   "version": "3.10.12"
  }
 },
 "nbformat": 4,
 "nbformat_minor": 2
}
