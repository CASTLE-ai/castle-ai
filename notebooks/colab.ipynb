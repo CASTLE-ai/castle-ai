{
 "cells": [
  {
   "cell_type": "code",
   "execution_count": null,
   "metadata": {},
   "outputs": [],
   "source": [
    "!pip install castle-ai\n",
    "!pip install -U xformers --index-url https://download.pytorch.org/whl/cu121\n",
    "!pip install -U cudf-cu12 cuml-cu12 --extra-index-url=https://pypi.nvidia.com "
   ]
  },
  {
   "cell_type": "code",
   "execution_count": null,
   "metadata": {},
   "outputs": [],
   "source": [
    "!git clone https://github.com/CASTLE-ai/castle-ai.git\n",
    "%cd /content/castle-ai\n",
    "!pip install -r requirements.txt"
   ]
  },
  {
   "cell_type": "code",
   "execution_count": null,
   "metadata": {},
   "outputs": [],
   "source": [
    "from google.colab import drive\n",
    "drive.mount('/content/drive')"
   ]
  },
  {
   "cell_type": "code",
   "execution_count": null,
   "metadata": {},
   "outputs": [],
   "source": [
    "!mkdir /content/drive/MyDrive/castle-projects\n",
    "!python app.py --project-folder /content/drive/MyDrive/castle-projects"
   ]
  }
 ],
 "metadata": {
  "language_info": {
   "name": "python"
  }
 },
 "nbformat": 4,
 "nbformat_minor": 2
}
