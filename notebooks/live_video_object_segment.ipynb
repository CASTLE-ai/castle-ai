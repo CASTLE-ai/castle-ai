{
 "cells": [
  {
   "cell_type": "code",
   "execution_count": 1,
   "metadata": {},
   "outputs": [],
   "source": [
    "out_mix_path = 'demo/mix.mp4'\n",
    "crf = 24\n",
    "\n",
    "label_path_list = ['real-time-raw-label.npz']\n",
    "ckpt_path = 'ckpt/R50_DeAOTL_PRE_YTB_DAV.pth'\n",
    "model = 'r50_deaotl'\n",
    "\n",
    "\n",
    "DEVICE = 'mps' # cuda"
   ]
  },
  {
   "cell_type": "code",
   "execution_count": 2,
   "metadata": {},
   "outputs": [],
   "source": [
    "\n",
    "cfg = {\n",
    "    'phase': 'PRE_YTB_DAV',\n",
    "    'model': model,\n",
    "    'model_path': ckpt_path,\n",
    "    'long_term_mem_gap': 99999,\n",
    "    'max_len_long_term': 30,\n",
    "    'device': DEVICE,\n",
    "}"
   ]
  },
  {
   "cell_type": "code",
   "execution_count": 3,
   "metadata": {},
   "outputs": [],
   "source": [
    "\n",
    "import matplotlib.pyplot as plt\n",
    "import cv2\n",
    "import numpy as np\n",
    "from IPython.display import display, Image\n",
    "\n",
    "import numpy as np\n",
    "from tqdm import tqdm\n",
    "from vos.utils.plot import gen_mix\n",
    "from vos.utils.avio import ReadArray, WriteArray\n",
    "from vos.tracker import get_aot"
   ]
  },
  {
   "cell_type": "code",
   "execution_count": 4,
   "metadata": {},
   "outputs": [],
   "source": [
    "# # record 100 frame for build ROI mask\n",
    "# target_n = 100\n",
    "# export = WriteArray(out_path, 30., crf)\n",
    "# cap = cv2.VideoCapture(0)\n",
    "# cap.set(3,640) # adjust width\n",
    "# cap.set(4,480) # adjust height\n",
    "\n",
    "# index = 0\n",
    "# while True:\n",
    "#     success, img = cap.read()\n",
    "#     img_rgb = cv2.cvtColor(img, cv2.COLOR_BGR2RGB)\n",
    "#     export.append(img_rgb)\n",
    "#     cv2.imshow(\"Webcam\", img) # This will open an independent window\n",
    "#     index += 1\n",
    "\n",
    "\n",
    "#     if index == target_n:\n",
    "#         break\n",
    "#     if cv2.waitKey(1) & 0xFF==ord('q'): # quit when 'q' is pressed\n",
    "#         cap.release()\n",
    "#         break\n",
    "        \n",
    "# cv2.destroyAllWindows() \n",
    "# cv2.waitKey(1) #\n",
    "# export.close()\n"
   ]
  },
  {
   "cell_type": "code",
   "execution_count": 5,
   "metadata": {},
   "outputs": [
    {
     "name": "stdout",
     "output_type": "stream",
     "text": [
      "AOTTracker Device: mps\n"
     ]
    },
    {
     "name": "stderr",
     "output_type": "stream",
     "text": [
      "/Users/raiso/VOS_DeAOT/.venv/lib/python3.11/site-packages/torch/nn/functional.py:4817: UserWarning: The operator 'aten::im2col' is not currently supported on the MPS backend and will fall back to run on the CPU. This may have performance implications. (Triggered internally at /Users/runner/work/pytorch/pytorch/pytorch/aten/src/ATen/mps/MPSFallback.mm:13.)\n",
      "  return torch._C._nn.im2col(input, _pair(kernel_size), _pair(dilation), _pair(padding), _pair(stride))\n",
      "2024-05-20 23:14:10.974 Python[29070:565024] WARNING: Secure coding is not enabled for restorable state! Enable secure coding by implementing NSApplicationDelegate.applicationSupportsSecureRestorableState: and returning YES.\n"
     ]
    },
    {
     "data": {
      "text/plain": [
       "-1"
      ]
     },
     "execution_count": 5,
     "metadata": {},
     "output_type": "execute_result"
    }
   ],
   "source": [
    "tracker = get_aot(cfg)\n",
    "frames = [np.load(it)['frame'] for it in label_path_list]\n",
    "masks = [np.load(it)['mask'] for it in label_path_list]\n",
    "tracker.add_reference_frame(frames[0], masks[0], 1, -1)\n",
    "\n",
    "\n",
    "cap = cv2.VideoCapture(0)\n",
    "cap.set(3,640) # adjust width\n",
    "cap.set(4,480) # adjust height\n",
    "\n",
    "while True:\n",
    "    success, img = cap.read()\n",
    "    img_rgb = cv2.cvtColor(img, cv2.COLOR_BGR2RGB)\n",
    "    mask = tracker.track(img)\n",
    "    mask = mask.squeeze().detach().cpu().numpy().astype(np.uint8)\n",
    "    mix = gen_mix(img, mask)\n",
    "    mix_bgr = cv2.cvtColor(mix, cv2.COLOR_BGR2RGB)\n",
    "    cv2.imshow(\"Webcam\", mix_bgr) # This will open an independent window\n",
    "    if cv2.waitKey(1) & 0xFF==ord('q'): # quit when 'q' is pressed\n",
    "        cap.release()\n",
    "        break\n",
    "        \n",
    "cv2.destroyAllWindows() \n",
    "cv2.waitKey(1) #"
   ]
  }
 ],
 "metadata": {
  "kernelspec": {
   "display_name": ".venv",
   "language": "python",
   "name": "python3"
  },
  "language_info": {
   "codemirror_mode": {
    "name": "ipython",
    "version": 3
   },
   "file_extension": ".py",
   "mimetype": "text/x-python",
   "name": "python",
   "nbconvert_exporter": "python",
   "pygments_lexer": "ipython3",
   "version": "3.11.4"
  }
 },
 "nbformat": 4,
 "nbformat_minor": 2
}
