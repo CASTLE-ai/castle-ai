{
 "cells": [
  {
   "cell_type": "code",
   "execution_count": null,
   "metadata": {},
   "outputs": [],
   "source": [
    "import numpy as np\n",
    "from tqdm import tqdm\n",
    "from castle import generate_dinov2\n",
    "from castle.utils.video_io import ReadArray"
   ]
  },
  {
   "cell_type": "code",
   "execution_count": null,
   "metadata": {},
   "outputs": [],
   "source": [
    "dinov2 = generate_dinov2(model_type='dinov2_vitb14_reg')"
   ]
  },
  {
   "cell_type": "code",
   "execution_count": null,
   "metadata": {},
   "outputs": [],
   "source": [
    "video_align_path = f'temp/video-align.mp4'\n",
    "mask_video_align_path = f'temp/mask-align.mp4'\n",
    "video_latent_path = 'temp/video_latent.npz'\n",
    "video_align = ReadArray(video_align_path)\n",
    "mask_video_align = ReadArray(mask_video_align_path)\n",
    "\n",
    "n = min(len(video_align), len(mask_video_align))\n",
    "roi_rgb = [122, 228, 240] # body\n",
    "video_latent = []\n",
    "\n",
    "for i in tqdm(range(n)):\n",
    "    frame, mask = video_align[i], mask_video_align[i]\n",
    "    try:\n",
    "        latent = dinov2.extract_image_latent(frame, mask, roi_rgb)\n",
    "    except:\n",
    "        latent = dinov2.nan_latent()\n",
    "        print(f'fail at frame {i}')\n",
    "    \n",
    "    video_latent.append(latent)\n",
    "\n",
    "\n",
    "\n",
    "np.savez_compressed(video_latent_path, latent=np.array(video_latent))"
   ]
  },
  {
   "cell_type": "code",
   "execution_count": null,
   "metadata": {},
   "outputs": [],
   "source": []
  }
 ],
 "metadata": {
  "kernelspec": {
   "display_name": ".venv",
   "language": "python",
   "name": "python3"
  },
  "language_info": {
   "codemirror_mode": {
    "name": "ipython",
    "version": 3
   },
   "file_extension": ".py",
   "mimetype": "text/x-python",
   "name": "python",
   "nbconvert_exporter": "python",
   "pygments_lexer": "ipython3",
   "version": "3.10.12"
  }
 },
 "nbformat": 4,
 "nbformat_minor": 2
}
