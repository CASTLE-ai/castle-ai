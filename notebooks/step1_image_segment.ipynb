{
 "cells": [
  {
   "cell_type": "code",
   "execution_count": null,
   "metadata": {},
   "outputs": [],
   "source": [
    "project_root = 'temp/'\n",
    "\n",
    "video_path = '../demo/case2-openfield/openfield-1min-raw.mp4'\n",
    "frame0_mask_path = f'{project_root}frame0_mask.npy'\n",
    "\n",
    "\n",
    "DEVICE = 'cuda' # cuda, mps\n",
    "MODEL = 'vit_b'"
   ]
  },
  {
   "cell_type": "code",
   "execution_count": null,
   "metadata": {},
   "outputs": [],
   "source": [
    "import numpy as np\n",
    "import matplotlib.pyplot as plt\n",
    "\n",
    "from castle import generate_sa\n",
    "from castle.utils.video_io import ReadArray"
   ]
  },
  {
   "cell_type": "code",
   "execution_count": null,
   "metadata": {},
   "outputs": [],
   "source": [
    "# Image segmentation\n",
    "frame0 = ReadArray(video_path)[0]\n",
    "sam = generate_sa(model_type=MODEL, device=DEVICE)\n",
    "prompt = (650, 600) #(x, y)\n",
    "prompt_mode = 1\n",
    "sam.set_frame(frame0)\n",
    "mask_body = sam.segment_with_click(prompt, prompt_mode)\n",
    "\n",
    "sam.next_roi()\n",
    "prompt = (580, 590) #(x, y)\n",
    "prompt_mode = 1\n",
    "_ = sam.segment_with_click(prompt, prompt_mode)\n",
    "prompt = (650, 600) #(x, y)\n",
    "prompt_mode = 0\n",
    "mask_full = sam.segment_with_click(prompt, prompt_mode)\n",
    "plt.subplot(1,3,1)\n",
    "plt.imshow(frame0)\n",
    "plt.subplot(1,3,2)\n",
    "plt.imshow(frame0)\n",
    "plt.imshow(mask_body, alpha = 0.3, cmap='inferno',vmax=2)\n",
    "plt.subplot(1,3,3)\n",
    "plt.imshow(frame0)\n",
    "plt.imshow(mask_full, alpha = 0.3, cmap='inferno',vmax=2)\n",
    "plt.show()\n",
    "plt.close()"
   ]
  },
  {
   "cell_type": "code",
   "execution_count": null,
   "metadata": {},
   "outputs": [],
   "source": [
    "np.save(frame0_mask_path, mask_full)"
   ]
  }
 ],
 "metadata": {
  "kernelspec": {
   "display_name": ".venv",
   "language": "python",
   "name": "python3"
  },
  "language_info": {
   "codemirror_mode": {
    "name": "ipython",
    "version": 3
   },
   "file_extension": ".py",
   "mimetype": "text/x-python",
   "name": "python",
   "nbconvert_exporter": "python",
   "pygments_lexer": "ipython3",
   "version": "3.10.12"
  }
 },
 "nbformat": 4,
 "nbformat_minor": 2
}
