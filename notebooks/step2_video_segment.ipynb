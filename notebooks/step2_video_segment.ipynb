{
 "cells": [
  {
   "cell_type": "code",
   "execution_count": null,
   "metadata": {},
   "outputs": [],
   "source": [
    "project_root = 'temp/'\n",
    "\n",
    "video_path = '../demo/case2-openfield/openfield-1min-raw.mp4'\n",
    "frame0_mask_path = f'{project_root}frame0_mask.npy'\n",
    "\n",
    "DEVICE = 'cuda' # cuda, mps\n",
    "MODEL = 'vit_b'\n",
    "crf = 18"
   ]
  },
  {
   "cell_type": "code",
   "execution_count": null,
   "metadata": {},
   "outputs": [],
   "source": [
    "# Video segmentation\n",
    "import numpy as np\n",
    "from tqdm import tqdm\n",
    "from castle import generate_aot\n",
    "from castle.utils.plot import generate_mix_image, generate_mask_image\n",
    "from castle.utils.video_io import ReadArray, WriteArray\n",
    "MODEL = 'r50_deaotl'\n",
    "tracker = generate_aot(model_type=MODEL, device=DEVICE)\n",
    "\n",
    "mask_full = np.load(frame0_mask_path)\n",
    "num_object = np.max(mask_full) # 1\n",
    "print('num_object:', num_object)\n",
    "frame0 = ReadArray(video_path)[0]\n",
    "tracker.add_reference_frame(frame0, mask_full, num_object)"
   ]
  },
  {
   "cell_type": "code",
   "execution_count": null,
   "metadata": {},
   "outputs": [],
   "source": [
    "out1_path = f'{project_root}mix.mp4'\n",
    "out2_path = f'{project_root}mask.mp4'\n",
    "\n",
    "video = ReadArray(video_path)\n",
    "out1 = WriteArray(out1_path, video.fps, crf)\n",
    "out2 = WriteArray(out2_path, video.fps, crf)\n",
    "\n",
    "n = len(video)\n",
    "for i in tqdm(range(n)):\n",
    "    frame = video[i]\n",
    "    mask = tracker.track(frame)\n",
    "    mask = mask.squeeze().detach().cpu().numpy().astype(np.uint8)\n",
    "    mix_img = generate_mix_image(frame, mask)\n",
    "    out1.append(mix_img)\n",
    "    mask_img = generate_mask_image(mask)\n",
    "    out2.append(mask_img)\n",
    "\n",
    "out1.close()\n",
    "out2.close()"
   ]
  }
 ],
 "metadata": {
  "kernelspec": {
   "display_name": ".venv",
   "language": "python",
   "name": "python3"
  },
  "language_info": {
   "codemirror_mode": {
    "name": "ipython",
    "version": 3
   },
   "file_extension": ".py",
   "mimetype": "text/x-python",
   "name": "python",
   "nbconvert_exporter": "python",
   "pygments_lexer": "ipython3",
   "version": "3.10.12"
  }
 },
 "nbformat": 4,
 "nbformat_minor": 2
}
