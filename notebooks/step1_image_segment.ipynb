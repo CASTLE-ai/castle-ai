{
 "cells": [
  {
   "cell_type": "code",
   "execution_count": null,
   "metadata": {},
   "outputs": [],
   "source": [
    "from castle import generate_sa\n",
    "from castle.utils.video_io import ReadArray"
   ]
  },
  {
   "cell_type": "code",
   "execution_count": null,
   "metadata": {},
   "outputs": [],
   "source": [
    "video_path = '../demo/case2-openfield/openfield-1min-raw.mp4'\n",
    "\n",
    "# Init Segment Anything\n",
    "frame0 = ReadArray(video_path)[0]\n",
    "sam = generate_sa(model_type='vit_b')\n",
    "\n",
    "# Label body ROI\n",
    "prompt, prompt_mode = (650, 600), 1 #(x, y), mode\n",
    "sam.set_frame(frame0)\n",
    "mask_body = sam.segment_with_click(prompt, prompt_mode)\n",
    "sam.next_roi()\n",
    "\n",
    "# Label tail ROI\n",
    "prompt, prompt_mode = (580, 590), 1\n",
    "_ = sam.segment_with_click(prompt, prompt_mode)\n",
    "prompt, prompt_mode = (650, 600), 0 \n",
    "mask_full = sam.segment_with_click(prompt, prompt_mode)"
   ]
  },
  {
   "cell_type": "code",
   "execution_count": null,
   "metadata": {},
   "outputs": [],
   "source": [
    "# Save mask\n",
    "import numpy as np\n",
    "frame0_mask_path = f'temp/frame0_mask.npy'\n",
    "np.save(frame0_mask_path, mask_full)"
   ]
  }
 ],
 "metadata": {
  "kernelspec": {
   "display_name": ".venv",
   "language": "python",
   "name": "python3"
  },
  "language_info": {
   "codemirror_mode": {
    "name": "ipython",
    "version": 3
   },
   "file_extension": ".py",
   "mimetype": "text/x-python",
   "name": "python",
   "nbconvert_exporter": "python",
   "pygments_lexer": "ipython3",
   "version": "3.10.12"
  }
 },
 "nbformat": 4,
 "nbformat_minor": 2
}
